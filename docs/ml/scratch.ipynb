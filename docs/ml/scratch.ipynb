{
 "cells": [
  {
   "cell_type": "markdown",
   "metadata": {},
   "source": [
    "# Scratch"
   ]
  },
  {
   "cell_type": "markdown",
   "metadata": {},
   "source": [
    "https://peterbloem.nl/blog/transformers"
   ]
  },
  {
   "cell_type": "code",
   "execution_count": 2,
   "metadata": {},
   "outputs": [],
   "source": [
    "import torch\n",
    "import torch.nn.functional as F"
   ]
  },
  {
   "cell_type": "code",
   "execution_count": 4,
   "metadata": {},
   "outputs": [
    {
     "data": {
      "text/plain": [
       "tensor([[[-0.9392,  0.8711,  1.2642, -0.3693],\n",
       "         [-0.3113,  0.4527,  0.1538, -0.4229],\n",
       "         [ 1.6715, -0.4245,  0.6328, -1.6786]],\n",
       "\n",
       "        [[ 1.9856, -1.3506, -0.2016,  1.4776],\n",
       "         [-1.3720,  0.6707,  0.0228,  1.8053],\n",
       "         [ 1.3059,  0.9915, -0.5044, -1.4064]]])"
      ]
     },
     "execution_count": 4,
     "metadata": {},
     "output_type": "execute_result"
    }
   ],
   "source": [
    "x = torch.randn(2, 3, 4)\n",
    "x"
   ]
  },
  {
   "cell_type": "code",
   "execution_count": 5,
   "metadata": {},
   "outputs": [
    {
     "data": {
      "text/plain": [
       "tensor([[[-0.9392, -0.3113,  1.6715],\n",
       "         [ 0.8711,  0.4527, -0.4245],\n",
       "         [ 1.2642,  0.1538,  0.6328],\n",
       "         [-0.3693, -0.4229, -1.6786]],\n",
       "\n",
       "        [[ 1.9856, -1.3720,  1.3059],\n",
       "         [-1.3506,  0.6707,  0.9915],\n",
       "         [-0.2016,  0.0228, -0.5044],\n",
       "         [ 1.4776,  1.8053, -1.4064]]])"
      ]
     },
     "execution_count": 5,
     "metadata": {},
     "output_type": "execute_result"
    }
   ],
   "source": [
    "x.transpose(1, 2)"
   ]
  },
  {
   "cell_type": "code",
   "execution_count": 6,
   "metadata": {},
   "outputs": [
    {
     "data": {
      "text/plain": [
       "tensor([[[ 3.3756,  1.0374, -0.5198],\n",
       "         [ 1.0374,  0.5044,  0.0947],\n",
       "         [-0.5198,  0.0947,  6.1922]],\n",
       "\n",
       "        [[ 7.9906, -0.9671, -0.7225],\n",
       "         [-0.9671,  5.5919, -3.6771],\n",
       "         [-0.7225, -3.6771,  4.9208]]])"
      ]
     },
     "execution_count": 6,
     "metadata": {},
     "output_type": "execute_result"
    }
   ],
   "source": [
    "raw_weights = torch.bmm(x, x.transpose(1, 2))\n",
    "raw_weights"
   ]
  },
  {
   "cell_type": "code",
   "execution_count": 7,
   "metadata": {},
   "outputs": [
    {
     "data": {
      "text/plain": [
       "tensor([[[8.9539e-01, 8.6406e-02, 1.8208e-02],\n",
       "         [5.0596e-01, 2.9692e-01, 1.9712e-01],\n",
       "         [1.2121e-03, 2.2408e-03, 9.9655e-01]],\n",
       "\n",
       "        [[9.9971e-01, 1.2870e-04, 1.6436e-04],\n",
       "         [1.4151e-03, 9.9849e-01, 9.4163e-05],\n",
       "         [3.5278e-03, 1.8381e-04, 9.9629e-01]]])"
      ]
     },
     "execution_count": 7,
     "metadata": {},
     "output_type": "execute_result"
    }
   ],
   "source": [
    "weights = F.softmax(raw_weights, dim=2)\n",
    "weights"
   ]
  },
  {
   "cell_type": "code",
   "execution_count": 8,
   "metadata": {},
   "outputs": [
    {
     "data": {
      "text/plain": [
       "tensor(6.)"
      ]
     },
     "execution_count": 8,
     "metadata": {},
     "output_type": "execute_result"
    }
   ],
   "source": [
    "weights.sum()"
   ]
  },
  {
   "cell_type": "code",
   "execution_count": 9,
   "metadata": {},
   "outputs": [
    {
     "data": {
      "text/plain": [
       "1.000004"
      ]
     },
     "execution_count": 9,
     "metadata": {},
     "output_type": "execute_result"
    }
   ],
   "source": [
    "8.9539e-01 + 8.6406e-02 + 1.8208e-02"
   ]
  },
  {
   "cell_type": "code",
   "execution_count": 11,
   "metadata": {},
   "outputs": [
    {
     "data": {
      "text/plain": [
       "tensor([[[-0.8374,  0.8114,  1.1568, -0.3978],\n",
       "         [-0.2381,  0.4915,  0.8101, -0.6433],\n",
       "         [ 1.6639, -0.4209,  0.6325, -1.6742]],\n",
       "\n",
       "        [[ 1.9851, -1.3500, -0.2016,  1.4771],\n",
       "         [-1.3670,  0.6679,  0.0224,  1.8046],\n",
       "         [ 1.3078,  0.9832, -0.5033, -1.3956]]])"
      ]
     },
     "execution_count": 11,
     "metadata": {},
     "output_type": "execute_result"
    }
   ],
   "source": [
    "y = torch.bmm(weights, x)\n",
    "y"
   ]
  },
  {
   "cell_type": "code",
   "execution_count": 12,
   "metadata": {},
   "outputs": [
    {
     "data": {
      "text/plain": [
       "tensor([[[-0.9392,  0.8711,  1.2642, -0.3693],\n",
       "         [-0.3113,  0.4527,  0.1538, -0.4229],\n",
       "         [ 1.6715, -0.4245,  0.6328, -1.6786]],\n",
       "\n",
       "        [[ 1.9856, -1.3506, -0.2016,  1.4776],\n",
       "         [-1.3720,  0.6707,  0.0228,  1.8053],\n",
       "         [ 1.3059,  0.9915, -0.5044, -1.4064]]])"
      ]
     },
     "execution_count": 12,
     "metadata": {},
     "output_type": "execute_result"
    }
   ],
   "source": [
    "x"
   ]
  },
  {
   "cell_type": "code",
   "execution_count": null,
   "metadata": {},
   "outputs": [],
   "source": []
  }
 ],
 "metadata": {
  "kernelspec": {
   "display_name": "fmh-notes-FjPe97EK-py3.11",
   "language": "python",
   "name": "python3"
  },
  "language_info": {
   "codemirror_mode": {
    "name": "ipython",
    "version": 3
   },
   "file_extension": ".py",
   "mimetype": "text/x-python",
   "name": "python",
   "nbconvert_exporter": "python",
   "pygments_lexer": "ipython3",
   "version": "3.11.1"
  },
  "orig_nbformat": 4
 },
 "nbformat": 4,
 "nbformat_minor": 2
}
