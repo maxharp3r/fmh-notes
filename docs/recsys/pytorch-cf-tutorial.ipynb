{
 "cells": [
  {
   "attachments": {},
   "cell_type": "markdown",
   "metadata": {},
   "source": [
    "# pytorch CF tutorial\n",
    "\n",
    "https://www.youtube.com/watch?v=Wj-nkk7dFS8\n",
    "\n",
    "resources: https://drive.google.com/drive/folders/1B_NZl0GeDrdx67dd_7mymYRF3Ktkdrd0"
   ]
  },
  {
   "cell_type": "code",
   "execution_count": 26,
   "metadata": {},
   "outputs": [],
   "source": [
    "import pandas as pd\n",
    "import numpy as np\n",
    "from sklearn import model_selection, metrics, preprocessing\n",
    "import torch\n",
    "import torch.nn as nn\n",
    "import matplotlib.pyplot as plt\n",
    "from torch.utils.data import Dataset, DataLoader\n",
    "\n",
    "from fmh_notes.datasets import MovieLensBuilder, MovieLens, MovieLensDataset\n",
    "from fmh_notes import utils"
   ]
  },
  {
   "cell_type": "code",
   "execution_count": 6,
   "metadata": {},
   "outputs": [
    {
     "name": "stdout",
     "output_type": "stream",
     "text": [
      "The autoreload extension is already loaded. To reload it, use:\n",
      "  %reload_ext autoreload\n"
     ]
    }
   ],
   "source": [
    "%load_ext autoreload\n",
    "%autoreload 2"
   ]
  },
  {
   "cell_type": "code",
   "execution_count": 7,
   "metadata": {},
   "outputs": [
    {
     "data": {
      "text/plain": [
       "'mps'"
      ]
     },
     "execution_count": 7,
     "metadata": {},
     "output_type": "execute_result"
    }
   ],
   "source": [
    "device = utils.get_pytorch_device()\n",
    "device"
   ]
  },
  {
   "attachments": {},
   "cell_type": "markdown",
   "metadata": {},
   "source": [
    "# get movielens data"
   ]
  },
  {
   "cell_type": "code",
   "execution_count": 30,
   "metadata": {},
   "outputs": [
    {
     "name": "stdout",
     "output_type": "stream",
     "text": [
      "MovieLens already downloaded\n"
     ]
    }
   ],
   "source": [
    "movielens: MovieLens = MovieLensBuilder(datadir=\"./data\").download().build()"
   ]
  },
  {
   "cell_type": "code",
   "execution_count": 33,
   "metadata": {},
   "outputs": [
    {
     "data": {
      "text/plain": [
       "({'users': tensor(134), 'movies': tensor(622), 'ratings': tensor(4)},\n",
       " {'users': tensor(428), 'movies': tensor(221), 'ratings': tensor(4)})"
      ]
     },
     "execution_count": 33,
     "metadata": {},
     "output_type": "execute_result"
    }
   ],
   "source": [
    "movielens.train_dataset[0], movielens.val_dataset[0]"
   ]
  },
  {
   "cell_type": "code",
   "execution_count": 35,
   "metadata": {},
   "outputs": [],
   "source": [
    "train_loader = DataLoader(\n",
    "    dataset=movielens.train_dataset, batch_size=4, shuffle=True, num_workers=0\n",
    ")"
   ]
  },
  {
   "cell_type": "code",
   "execution_count": 34,
   "metadata": {},
   "outputs": [],
   "source": [
    "validation_loader = DataLoader(\n",
    "    dataset=movielens.val_dataset, batch_size=4, shuffle=True, num_workers=0\n",
    ")"
   ]
  },
  {
   "cell_type": "code",
   "execution_count": 41,
   "metadata": {},
   "outputs": [
    {
     "data": {
      "text/plain": [
       "{'users': tensor([599, 108, 287, 219]),\n",
       " 'movies': tensor([ 607,  134, 2185, 6753]),\n",
       " 'ratings': tensor([0, 3, 3, 3])}"
      ]
     },
     "execution_count": 41,
     "metadata": {},
     "output_type": "execute_result"
    }
   ],
   "source": [
    "i, data = next(enumerate(train_loader))\n",
    "data"
   ]
  },
  {
   "cell_type": "code",
   "execution_count": 49,
   "metadata": {},
   "outputs": [
    {
     "data": {
      "text/plain": [
       "(tensor([0, 3, 3, 3]),\n",
       " tensor([[0],\n",
       "         [3],\n",
       "         [3],\n",
       "         [3]]))"
      ]
     },
     "execution_count": 49,
     "metadata": {},
     "output_type": "execute_result"
    }
   ],
   "source": [
    "data[\"ratings\"], data[\"ratings\"].reshape(4, -1)"
   ]
  },
  {
   "attachments": {},
   "cell_type": "markdown",
   "metadata": {},
   "source": [
    "# train"
   ]
  },
  {
   "cell_type": "code",
   "execution_count": 22,
   "metadata": {},
   "outputs": [],
   "source": [
    "class RecSysModel(nn.Module):\n",
    "    def __init__(self, n_users, n_movies):\n",
    "        super().__init__()\n",
    "\n",
    "        # trainable lookup matrix for shallow embedding vectors\n",
    "        self.user_embed = nn.Embedding(n_users, 32)\n",
    "        self.movie_embed = nn.Embedding(n_movies, 32)\n",
    "\n",
    "        # user, movie embedding concat\n",
    "        self.out = nn.Linear(64, 1)\n",
    "\n",
    "    def forward(self, users, movies, ratings=None):\n",
    "        user_embeds = self.user_embed(users)\n",
    "        movie_embeds = self.movie_embed(movies)\n",
    "        output = torch.cat([user_embeds, movie_embeds], dim=1)\n",
    "\n",
    "        output = self.out(output)\n",
    "\n",
    "        return output"
   ]
  },
  {
   "cell_type": "code",
   "execution_count": 37,
   "metadata": {},
   "outputs": [],
   "source": [
    "model = RecSysModel(\n",
    "    n_users=movielens.n_users,\n",
    "    n_movies=movielens.n_movies,\n",
    ").to(device)\n",
    "\n",
    "optimizer = torch.optim.Adam(model.parameters())\n",
    "sch = torch.optim.lr_scheduler.StepLR(optimizer, step_size=3, gamma=0.7)\n",
    "\n",
    "loss_func = nn.MSELoss()"
   ]
  },
  {
   "cell_type": "code",
   "execution_count": 38,
   "metadata": {},
   "outputs": [
    {
     "name": "stdout",
     "output_type": "stream",
     "text": [
      "epoch 0 loss at step: 5000 is 0.5172129237443208\n",
      "epoch 0 loss at step: 10000 is 0.19656794695239513\n",
      "epoch 0 loss at step: 15000 is 0.10866193754337727\n",
      "epoch 0 loss at step: 20000 is 0.08510973144900054\n",
      "epoch 0 loss at step: 25000 is 0.07516497840899974\n",
      "epoch 0 loss at step: 30000 is 0.06739943576809018\n",
      "epoch 0 loss at step: 35000 is 0.06381229525641538\n",
      "epoch 0 loss at step: 40000 is 0.06190685783848166\n",
      "epoch 0 loss at step: 45000 is 0.06257421865025535\n",
      "epoch 0 loss at step: 50000 is 0.060862274226453156\n",
      "epoch 0 loss at step: 55000 is 0.062382963575562465\n",
      "epoch 0 loss at step: 60000 is 0.05921544357277453\n",
      "epoch 0 loss at step: 65000 is 0.058380976187996564\n",
      "epoch 0 loss at step: 70000 is 0.05764615434869193\n",
      "epoch 0 loss at step: 75000 is 0.05931314347162843\n",
      "epoch 0 loss at step: 80000 is 0.05800028632543981\n",
      "epoch 0 loss at step: 85000 is 0.05579527057604864\n",
      "epoch 0 loss at step: 90000 is 0.05672175200143829\n"
     ]
    }
   ],
   "source": [
    "epochs = 1\n",
    "total_loss = 0\n",
    "plot_steps, print_steps = 5000, 5000\n",
    "step_cnt = 0\n",
    "all_losses_list = []\n",
    "\n",
    "model.train()\n",
    "for epoch_i in range(epochs):\n",
    "    for i, train_data in enumerate(train_loader):\n",
    "        output = model(train_data[\"users\"].to(device), train_data[\"movies\"].to(device))\n",
    "\n",
    "        # .view(4, -1) is to reshape the rating to match the shape of model output which is 4x1\n",
    "        rating = train_data[\"ratings\"].view(4, -1).to(torch.float32).to(device)\n",
    "\n",
    "        loss = loss_func(output, rating)\n",
    "        total_loss = total_loss + loss.sum().item()\n",
    "        optimizer.zero_grad()\n",
    "        loss.backward()\n",
    "        optimizer.step()\n",
    "\n",
    "        step_cnt = step_cnt + len(train_data[\"users\"])\n",
    "\n",
    "        if step_cnt % plot_steps == 0:\n",
    "            avg_loss = total_loss / (len(train_data[\"users\"]) * plot_steps)\n",
    "            print(f\"epoch {epoch_i} loss at step: {step_cnt} is {avg_loss}\")\n",
    "            all_losses_list.append(avg_loss)\n",
    "            total_loss = 0  # reset total_loss"
   ]
  },
  {
   "cell_type": "code",
   "execution_count": 33,
   "metadata": {},
   "outputs": [
    {
     "data": {
      "text/plain": [
       "tensor([[1.],\n",
       "        [4.],\n",
       "        [4.],\n",
       "        [1.]], device='mps:0')"
      ]
     },
     "execution_count": 33,
     "metadata": {},
     "output_type": "execute_result"
    }
   ],
   "source": [
    "rating"
   ]
  },
  {
   "cell_type": "code",
   "execution_count": 35,
   "metadata": {},
   "outputs": [
    {
     "name": "stderr",
     "output_type": "stream",
     "text": [
      "/var/folders/2m/chmsbj190299909_nqdm1zxr0000gn/T/ipykernel_25753/842791017.py:19: UserWarning: MPS: no support for int64 reduction ops, casting it to int32 (Triggered internally at /Users/runner/work/_temp/anaconda/conda-bld/pytorch_1677571749046/work/aten/src/ATen/native/mps/operations/ReduceOps.mm:144.)\n",
      "  target_rating_list.append(r.sum().item() / len(batched_data['users']))\n"
     ]
    },
    {
     "name": "stdout",
     "output_type": "stream",
     "text": [
      "rms: 0.46929448444177374\n"
     ]
    }
   ],
   "source": [
    "from sklearn.metrics import mean_squared_error\n",
    "\n",
    "model_output_list = []\n",
    "target_rating_list = []\n",
    "\n",
    "model.eval()\n",
    "\n",
    "with torch.no_grad():\n",
    "    for i, batched_data in enumerate(validation_loader):\n",
    "        u = batched_data[\"users\"].to(device)\n",
    "        m = batched_data[\"movies\"].to(device)\n",
    "        r = batched_data[\"ratings\"].to(device)\n",
    "        model_output = model(u, m)\n",
    "\n",
    "        model_output_list.append(model_output.sum().item() / len(u))\n",
    "\n",
    "        # target_rating = batched_data[\"ratings\"]\n",
    "\n",
    "        target_rating_list.append(r.sum().item() / len(batched_data[\"users\"]))\n",
    "\n",
    "        # print(f\"model_output: {model_output}, target_rating: {target_rating}\")\n",
    "\n",
    "\n",
    "# squared If True returns MSE value, if False returns RMSE value.\n",
    "rms = mean_squared_error(target_rating_list, model_output_list, squared=False)\n",
    "print(f\"rms: {rms}\")"
   ]
  },
  {
   "cell_type": "code",
   "execution_count": null,
   "metadata": {},
   "outputs": [],
   "source": []
  }
 ],
 "metadata": {
  "kernelspec": {
   "display_name": "fmh-pytorch-scratch",
   "language": "python",
   "name": "python3"
  },
  "language_info": {
   "codemirror_mode": {
    "name": "ipython",
    "version": 3
   },
   "file_extension": ".py",
   "mimetype": "text/x-python",
   "name": "python",
   "nbconvert_exporter": "python",
   "pygments_lexer": "ipython3",
   "version": "3.11.1"
  },
  "orig_nbformat": 4,
  "vscode": {
   "interpreter": {
    "hash": "60d915269cb4bc1e340c478f7d621e26d048ae6c0521f1f19baa44f56204b381"
   }
  }
 },
 "nbformat": 4,
 "nbformat_minor": 2
}
